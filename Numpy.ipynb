{
  "nbformat": 4,
  "nbformat_minor": 0,
  "metadata": {
    "colab": {
      "provenance": [],
      "authorship_tag": "ABX9TyMnrWfamczFnwB/JwYTEjQV",
      "include_colab_link": true
    },
    "kernelspec": {
      "name": "python3",
      "display_name": "Python 3"
    },
    "language_info": {
      "name": "python"
    }
  },
  "cells": [
    {
      "cell_type": "markdown",
      "metadata": {
        "id": "view-in-github",
        "colab_type": "text"
      },
      "source": [
        "<a href=\"https://colab.research.google.com/github/gantavivekkumar/Numpy_notes/blob/main/Numpy.ipynb\" target=\"_parent\"><img src=\"https://colab.research.google.com/assets/colab-badge.svg\" alt=\"Open In Colab\"/></a>"
      ]
    },
    {
      "cell_type": "code",
      "execution_count": null,
      "metadata": {
        "id": "nfG4OofQCgvF"
      },
      "outputs": [],
      "source": [
        "#what is numpy?\n",
        "#core librarary for secentific computing in python\n",
        "#The central object in  numpy is \"Numpy Array\"\n",
        "#what is numpy array?\n",
        "#High performanace multideminsional array object which is designed sepcificall to perform maths operations\n"
      ]
    },
    {
      "cell_type": "code",
      "source": [
        "#How many types of array are their?\n",
        "#1D\n",
        "#2D\n",
        "#3D"
      ],
      "metadata": {
        "id": "2MqaCU4REYF0"
      },
      "execution_count": null,
      "outputs": []
    },
    {
      "cell_type": "code",
      "source": [
        "#scikit learn,\n",
        "#matplotlib\n",
        "#Pandas"
      ],
      "metadata": {
        "id": "5TLouAhXEbZ5"
      },
      "execution_count": null,
      "outputs": []
    },
    {
      "cell_type": "code",
      "source": [
        "#what are all different use cases and operations that can be achieved easily with numpy\n",
        "\"\"\"1. Dot product/inner product\n",
        "  2. matrix multiplication,\n",
        "  3.element wise matrix product\n",
        "  4.solving the linear systems,\n",
        "  5.inverse\n",
        "  6.determinant\n",
        "  7.choose the random number(gussian/uniform distribution)\n",
        "  8.statistics \"\"\"\n"
      ],
      "metadata": {
        "id": "7bDSV8CeEeQe"
      },
      "execution_count": null,
      "outputs": []
    },
    {
      "cell_type": "code",
      "source": [
        "#installation\n",
        "! pip install numpy"
      ],
      "metadata": {
        "colab": {
          "base_uri": "https://localhost:8080/"
        },
        "id": "ywWVmDocEiJ9",
        "outputId": "dac3c038-6df5-4502-fe2d-608575c49179"
      },
      "execution_count": null,
      "outputs": [
        {
          "output_type": "stream",
          "name": "stdout",
          "text": [
            "Requirement already satisfied: numpy in /usr/local/lib/python3.10/dist-packages (1.26.4)\n"
          ]
        }
      ]
    },
    {
      "cell_type": "code",
      "source": [
        "import numpy as np"
      ],
      "metadata": {
        "id": "_6RKJjAHEmCS"
      },
      "execution_count": null,
      "outputs": []
    },
    {
      "cell_type": "code",
      "source": [
        "#how can we check the numpy version\n",
        "np.__version__"
      ],
      "metadata": {
        "colab": {
          "base_uri": "https://localhost:8080/",
          "height": 36
        },
        "id": "MTUElssbEzJp",
        "outputId": "398728ff-e5f4-4019-9a82-f459a32195df"
      },
      "execution_count": null,
      "outputs": [
        {
          "output_type": "execute_result",
          "data": {
            "text/plain": [
              "'1.26.4'"
            ],
            "application/vnd.google.colaboratory.intrinsic+json": {
              "type": "string"
            }
          },
          "metadata": {},
          "execution_count": 3
        }
      ]
    },
    {
      "cell_type": "code",
      "source": [
        "#diff b/w list and array?\n",
        "\"\"\"array:- array can take homogenous data\n",
        "           array's are faster than the list becuase these are immutable\n",
        "           array's having fixed memory \"\"\"\n"
      ],
      "metadata": {
        "colab": {
          "base_uri": "https://localhost:8080/",
          "height": 36
        },
        "id": "6IzwK5DdE0A8",
        "outputId": "a64a4f39-dd42-4640-a9a5-54e82f15f541"
      },
      "execution_count": null,
      "outputs": [
        {
          "output_type": "execute_result",
          "data": {
            "text/plain": [
              "\"array:- array can take homogenous data\\n           array's are faster than the list becuase these are immutable\\n           array's having fixed memory \""
            ],
            "application/vnd.google.colaboratory.intrinsic+json": {
              "type": "string"
            }
          },
          "metadata": {},
          "execution_count": 4
        }
      ]
    },
    {
      "cell_type": "code",
      "source": [
        "#diff b/w homogenous and heterogenous data?"
      ],
      "metadata": {
        "id": "A-puCov3E2en"
      },
      "execution_count": null,
      "outputs": []
    },
    {
      "cell_type": "markdown",
      "source": [
        "CENTRAL OBJECT IS ARRAY"
      ],
      "metadata": {
        "id": "wZv13L9dE6nr"
      }
    },
    {
      "cell_type": "code",
      "source": [
        "a = np.array([1,2,3,4])\n",
        "print(a)\n",
        "#i want to know the shape of the array\n",
        "a.shape\n",
        "#i want to know element data types\n",
        "a.dtype\n",
        "#i want to know deminson of array\n",
        "a.ndim\n",
        "#i want to know total number elements in array\n",
        "a.size\n",
        "#i want to know the size in bytes of each element\n",
        "a.itemsize"
      ],
      "metadata": {
        "colab": {
          "base_uri": "https://localhost:8080/"
        },
        "id": "KDqtWAJUE-01",
        "outputId": "b2bf4437-6226-4c10-ee7e-2582845c3fab"
      },
      "execution_count": null,
      "outputs": [
        {
          "output_type": "stream",
          "name": "stdout",
          "text": [
            "[1 2 3 4]\n"
          ]
        },
        {
          "output_type": "execute_result",
          "data": {
            "text/plain": [
              "8"
            ]
          },
          "metadata": {},
          "execution_count": 5
        }
      ]
    },
    {
      "cell_type": "code",
      "source": [
        "#central object is an array\n",
        "#create an 1D array\n",
        "a = np.array([1,2,3,4,5])\n",
        "print(a) #[1 2 3 4 5]\n",
        "# print(type(a))\n",
        "# check shape of this array\n",
        "a .shape\n",
        "#How can you check datatypes of elements in an array\n",
        "a.dtype\n",
        "#what is diff b/w int32 and int64\n",
        "#what is diff b/w float32 and float64\n",
        "#How can we find the dimensionality of an array?\n",
        "a.ndim"
      ],
      "metadata": {
        "colab": {
          "base_uri": "https://localhost:8080/"
        },
        "id": "d5mM1817FCaG",
        "outputId": "fa6f06c1-75e8-459d-ff53-3f6dd84b7cfa"
      },
      "execution_count": null,
      "outputs": [
        {
          "output_type": "stream",
          "name": "stdout",
          "text": [
            "[1 2 3 4 5]\n"
          ]
        },
        {
          "output_type": "execute_result",
          "data": {
            "text/plain": [
              "1"
            ]
          },
          "metadata": {},
          "execution_count": 6
        }
      ]
    },
    {
      "cell_type": "code",
      "source": [
        "#How can i see the size of my array? #no. of elements i an array\n",
        "a.size\n"
      ],
      "metadata": {
        "colab": {
          "base_uri": "https://localhost:8080/"
        },
        "id": "M9-CF3GWFGTp",
        "outputId": "4504d7d3-ff8d-46d0-fd53-2c097e0e0068"
      },
      "execution_count": null,
      "outputs": [
        {
          "output_type": "execute_result",
          "data": {
            "text/plain": [
              "5"
            ]
          },
          "metadata": {},
          "execution_count": 7
        }
      ]
    },
    {
      "cell_type": "code",
      "source": [
        "#How can i see the size in bytes of each element in an array?\n",
        "a.itemsize"
      ],
      "metadata": {
        "colab": {
          "base_uri": "https://localhost:8080/"
        },
        "id": "14oj-C5LFJjM",
        "outputId": "7cbb9aad-9488-43e2-935f-ccf04102b599"
      },
      "execution_count": null,
      "outputs": [
        {
          "output_type": "execute_result",
          "data": {
            "text/plain": [
              "8"
            ]
          },
          "metadata": {},
          "execution_count": 8
        }
      ]
    },
    {
      "cell_type": "markdown",
      "source": [
        "ESSENTIAL METHODS IN AN ARRAY"
      ],
      "metadata": {
        "id": "w2zFnTSWIzPx"
      }
    },
    {
      "cell_type": "code",
      "source": [
        "b = np.array([1,2,3])\n",
        "print(b[0])\n",
        "#replace 1st position with 5\n",
        "b[0] = 5\n",
        "print(b)\n",
        "#do element wise math operations\n",
        "c = b * np.array([2,0,2])\n",
        "print(c)"
      ],
      "metadata": {
        "colab": {
          "base_uri": "https://localhost:8080/"
        },
        "id": "wdom_9e-JE_r",
        "outputId": "81e2cf8e-25c4-40d8-f51f-ee5939194769"
      },
      "execution_count": null,
      "outputs": [
        {
          "output_type": "stream",
          "name": "stdout",
          "text": [
            "1\n",
            "[5 2 3]\n",
            "[10  0  6]\n"
          ]
        }
      ]
    },
    {
      "cell_type": "markdown",
      "source": [
        "ARRAY VS LIST"
      ],
      "metadata": {
        "id": "4zUUuoehJJx7"
      }
    },
    {
      "cell_type": "code",
      "source": [
        "l = [1,2,3,4,5,6,7,8,9]\n",
        "d = np.array(l)\n",
        "print(l)\n",
        "print(d)"
      ],
      "metadata": {
        "colab": {
          "base_uri": "https://localhost:8080/"
        },
        "id": "FvdP5APGJTPv",
        "outputId": "d490d934-06d5-40f8-d905-80140b0e2618"
      },
      "execution_count": null,
      "outputs": [
        {
          "output_type": "stream",
          "name": "stdout",
          "text": [
            "[1, 2, 3, 4, 5, 6, 7, 8, 9]\n",
            "[1 2 3 4 5 6 7 8 9]\n"
          ]
        }
      ]
    },
    {
      "cell_type": "code",
      "source": [
        "#add an item at the end of the list\n",
        "l.append(10)\n",
        "print(l)"
      ],
      "metadata": {
        "colab": {
          "base_uri": "https://localhost:8080/"
        },
        "id": "G8XZmnUhJWsM",
        "outputId": "70e9ef88-5e58-4f85-bef4-5841c9736ab9"
      },
      "execution_count": null,
      "outputs": [
        {
          "output_type": "stream",
          "name": "stdout",
          "text": [
            "[1, 2, 3, 4, 5, 6, 7, 8, 9, 10]\n"
          ]
        }
      ]
    },
    {
      "cell_type": "code",
      "source": [
        "#add item at the end of an array?\n",
        "# d.append(10) ---> it rises an error\n",
        "# print(d)\n",
        "#there are ways to add the items in the array, but this esseentiall creates a new array\n",
        "# l2 = l + [11]\n",
        "# print(l2)\n",
        "\n",
        "a2 = d + np.array([10])\n",
        "print(a2)"
      ],
      "metadata": {
        "colab": {
          "base_uri": "https://localhost:8080/"
        },
        "id": "ijQOISlFJauA",
        "outputId": "01a9eceb-5024-488b-904d-0bdfb0d84d92"
      },
      "execution_count": null,
      "outputs": [
        {
          "output_type": "stream",
          "name": "stdout",
          "text": [
            "[11 12 13 14 15 16 17 18 19]\n"
          ]
        }
      ]
    },
    {
      "cell_type": "code",
      "source": [
        "#Vector addition:- adding the vectores of same size\n",
        "#we cannot add the vectors of same size\n",
        "a3 = d + np.array([1,2,3,4,5,6,7,8,9])\n",
        "print(a3)\n",
        "\n"
      ],
      "metadata": {
        "colab": {
          "base_uri": "https://localhost:8080/"
        },
        "id": "uUPGWHQKJ50A",
        "outputId": "a6910af7-c514-46d8-a8f3-0008541692b4"
      },
      "execution_count": null,
      "outputs": [
        {
          "output_type": "stream",
          "name": "stdout",
          "text": [
            "[ 2  4  6  8 10 12 14 16 18]\n"
          ]
        }
      ]
    },
    {
      "cell_type": "code",
      "source": [
        "#Multiplication\n",
        "#how can we do multiplication of each element in an array?\n",
        "a1 = np.array([1,2,3,4,5])\n",
        "print(a1*2)"
      ],
      "metadata": {
        "colab": {
          "base_uri": "https://localhost:8080/"
        },
        "id": "bLhsQi94J-kt",
        "outputId": "d61f1ef1-bd3e-47db-89c9-eccf414e2cc8"
      },
      "execution_count": null,
      "outputs": [
        {
          "output_type": "stream",
          "name": "stdout",
          "text": [
            "[ 2  4  6  8 10]\n"
          ]
        }
      ]
    },
    {
      "cell_type": "code",
      "source": [
        "#modify each item in a list and store it in new list do thw muliply with 2 in given list\n",
        "#[2,4,6,8,10]\n",
        "#output: [4,8,12,16,20]\n",
        "list = [2,4,6,8,10]\n",
        "new_list = []\n",
        "for i in list:\n",
        "    new_list.append(i*2)\n",
        "print(new_list)"
      ],
      "metadata": {
        "colab": {
          "base_uri": "https://localhost:8080/"
        },
        "id": "dWhwZvWLKEVb",
        "outputId": "a042bfaf-b3d5-440b-e4b7-cf59b350c158"
      },
      "execution_count": null,
      "outputs": [
        {
          "output_type": "stream",
          "name": "stdout",
          "text": [
            "[4, 8, 12, 16, 20]\n"
          ]
        }
      ]
    },
    {
      "cell_type": "code",
      "source": [
        "#print sqr of array a1?\n",
        "print(a1)\n",
        "print(a1**2)"
      ],
      "metadata": {
        "colab": {
          "base_uri": "https://localhost:8080/"
        },
        "id": "ViskFNvtKJ8-",
        "outputId": "2564fc2d-72c1-4bae-dc22-7e46fc916d40"
      },
      "execution_count": null,
      "outputs": [
        {
          "output_type": "stream",
          "name": "stdout",
          "text": [
            "[1 2 3 4 5]\n",
            "[ 1  4  9 16 25]\n"
          ]
        }
      ]
    },
    {
      "cell_type": "code",
      "source": [
        "#print of sqrt of a1?\n",
        "# print(a1**0.5)\n",
        "np.exp(a1)\n",
        "# np.tanh(a1)"
      ],
      "metadata": {
        "colab": {
          "base_uri": "https://localhost:8080/"
        },
        "id": "nxocx7k0KNpf",
        "outputId": "acf53590-3c85-402d-f3f3-9dc8d4b40996"
      },
      "execution_count": null,
      "outputs": [
        {
          "output_type": "execute_result",
          "data": {
            "text/plain": [
              "array([  2.71828183,   7.3890561 ,  20.08553692,  54.59815003,\n",
              "       148.4131591 ])"
            ]
          },
          "metadata": {},
          "execution_count": 17
        }
      ]
    },
    {
      "cell_type": "code",
      "source": [
        "#how to find log of a1 by usinh numpy\n",
        "d1 = np.log(a1)\n",
        "print(d1)"
      ],
      "metadata": {
        "colab": {
          "base_uri": "https://localhost:8080/"
        },
        "id": "CKhmOUESKQp3",
        "outputId": "68f1e968-2198-4253-bf8d-f4783585d2a8"
      },
      "execution_count": null,
      "outputs": [
        {
          "output_type": "stream",
          "name": "stdout",
          "text": [
            "[0.         0.69314718 1.09861229 1.38629436 1.60943791]\n"
          ]
        }
      ]
    },
    {
      "cell_type": "code",
      "source": [
        "a = np.array([1,2])\n",
        "b = np.array([3,4])\n",
        "#sum of the produucts of the corresponding entries\n",
        "#multiply each corresponding element and then take the sum\n",
        "#cumbersome way of lists\n",
        "dot = 0\n",
        "for i in range(len(a)):\n",
        "  dot += a[i] * b[i]\n",
        "print(dot)"
      ],
      "metadata": {
        "colab": {
          "base_uri": "https://localhost:8080/"
        },
        "id": "Hb12v81CKTkT",
        "outputId": "ba3ccfa1-b9ae-48de-c513-2564bda26821"
      },
      "execution_count": null,
      "outputs": [
        {
          "output_type": "stream",
          "name": "stdout",
          "text": [
            "11\n"
          ]
        }
      ]
    },
    {
      "cell_type": "code",
      "source": [
        "#same thing in numpy\n",
        "dot = np.dot(a,b)\n",
        "print(dot)"
      ],
      "metadata": {
        "colab": {
          "base_uri": "https://localhost:8080/"
        },
        "id": "vwkIsjQdKWtl",
        "outputId": "be5ac527-aa6e-4bbf-ee39-044ac4ebf649"
      },
      "execution_count": null,
      "outputs": [
        {
          "output_type": "stream",
          "name": "stdout",
          "text": [
            "11\n"
          ]
        }
      ]
    },
    {
      "cell_type": "code",
      "source": [
        "#step by step procedure\n",
        "c = a * b\n",
        "print(c)\n",
        "d = np.sum(c)\n",
        "print(d)"
      ],
      "metadata": {
        "colab": {
          "base_uri": "https://localhost:8080/"
        },
        "id": "HxycbbEaKZxM",
        "outputId": "49168bea-1530-4573-b18a-16c09ea98792"
      },
      "execution_count": null,
      "outputs": [
        {
          "output_type": "stream",
          "name": "stdout",
          "text": [
            "[3 8]\n",
            "11\n"
          ]
        }
      ]
    },
    {
      "cell_type": "code",
      "source": [
        "dot = a.dot(b)\n",
        "print(dot)"
      ],
      "metadata": {
        "colab": {
          "base_uri": "https://localhost:8080/"
        },
        "id": "zlTIQHWRKcpH",
        "outputId": "bfb60fe4-84ef-4113-d6a4-b8b955b27e6f"
      },
      "execution_count": null,
      "outputs": [
        {
          "output_type": "stream",
          "name": "stdout",
          "text": [
            "11\n"
          ]
        }
      ]
    },
    {
      "cell_type": "code",
      "source": [
        "dot = (a * b).sum()\n",
        "print(dot)"
      ],
      "metadata": {
        "colab": {
          "base_uri": "https://localhost:8080/"
        },
        "id": "EKXlRoXEKiBU",
        "outputId": "f6194528-0424-47fa-9a3f-c971510756cf"
      },
      "execution_count": null,
      "outputs": [
        {
          "output_type": "stream",
          "name": "stdout",
          "text": [
            "11\n"
          ]
        }
      ]
    },
    {
      "cell_type": "code",
      "source": [
        "#in newer version\n",
        "dot = a @ b\n",
        "print(dot)"
      ],
      "metadata": {
        "colab": {
          "base_uri": "https://localhost:8080/"
        },
        "id": "wIXkHFkoLH-j",
        "outputId": "434f821c-fe7b-4e5e-b8fe-be23249f179e"
      },
      "execution_count": null,
      "outputs": [
        {
          "output_type": "stream",
          "name": "stdout",
          "text": [
            "11\n"
          ]
        }
      ]
    },
    {
      "cell_type": "markdown",
      "source": [
        "ARRAY VS LIST SPEED TEST"
      ],
      "metadata": {
        "id": "Ugj4NfBgLM4Y"
      }
    },
    {
      "cell_type": "code",
      "source": [
        "import numpy as np"
      ],
      "metadata": {
        "id": "T64INUKMLLn1"
      },
      "execution_count": null,
      "outputs": []
    },
    {
      "cell_type": "code",
      "source": [
        "from timeit import default_timer as timer\n",
        "a = np.random.randn(1000)\n",
        "b = np.random.randn(1000)\n",
        "# print(a)\n",
        "# print(b)\n",
        "A = list(a)\n",
        "B = list(b)\n",
        "T = 1000\n",
        "def dot1():\n",
        "  dot = 0\n",
        "  for i in range(len(A)):\n",
        "    dot += A[i] * B[i]\n",
        "  return dot\n",
        "def dot2():\n",
        "  return np.dot(a,b)\n",
        "\n",
        "#calculate time of execution\n",
        "start = timer()\n",
        "for t in range(T):\n",
        "  dot1()\n",
        "end = timer()\n",
        "t1 = end - start\n",
        "\n",
        "start = timer()\n",
        "for t in range(T):\n",
        "  dot2()\n",
        "end = timer()\n",
        "t2 = end - start\n",
        "\n",
        "print('time with lists',t1)\n",
        "print('time with array',t2)\n",
        "print('ratio', t1/t2)"
      ],
      "metadata": {
        "id": "cKrvpqZKLW3V"
      },
      "execution_count": null,
      "outputs": []
    },
    {
      "cell_type": "markdown",
      "source": [
        "MULTIDIMENSIONAL ARRAY"
      ],
      "metadata": {
        "id": "52eXNe6tL8Om"
      }
    },
    {
      "cell_type": "code",
      "source": [
        "a = np.array([[1,2],[3,4]])\n",
        "print(a)\n",
        "print(a.shape)\n",
        "print(a.ndim)\n",
        "print(a.size)\n",
        "print(a.dtype)"
      ],
      "metadata": {
        "colab": {
          "base_uri": "https://localhost:8080/"
        },
        "id": "emp7SZR4LbFk",
        "outputId": "c6d6ef33-079d-43fa-ec93-37e48bc83ab8"
      },
      "execution_count": null,
      "outputs": [
        {
          "output_type": "stream",
          "name": "stdout",
          "text": [
            "[[1 2]\n",
            " [3 4]]\n",
            "(2, 2)\n",
            "2\n",
            "4\n",
            "int64\n"
          ]
        }
      ]
    },
    {
      "cell_type": "code",
      "source": [
        "#access the elements -->(rows,columns)\n",
        "print(a[0]) #---> [1 2]\n",
        "print(a[0,1])\n",
        "#print the 4 element\n",
        "print(a[1,1])"
      ],
      "metadata": {
        "colab": {
          "base_uri": "https://localhost:8080/"
        },
        "id": "CGDRdFPcMDbf",
        "outputId": "ab75315e-2fe6-479c-9f95-5367b533d063"
      },
      "execution_count": null,
      "outputs": [
        {
          "output_type": "stream",
          "name": "stdout",
          "text": [
            "[1 2]\n",
            "2\n",
            "4\n"
          ]
        }
      ]
    },
    {
      "cell_type": "code",
      "source": [
        "#print the all rows in column 0\n",
        "print(a[:,0])"
      ],
      "metadata": {
        "colab": {
          "base_uri": "https://localhost:8080/"
        },
        "id": "x9yCenC6MGp4",
        "outputId": "9381abdb-de32-4354-88c2-5f0a35df9c47"
      },
      "execution_count": null,
      "outputs": [
        {
          "output_type": "stream",
          "name": "stdout",
          "text": [
            "[1 3]\n"
          ]
        }
      ]
    },
    {
      "cell_type": "code",
      "source": [
        "#print all the columns in row 0?\n",
        "print(a[0,:])\n"
      ],
      "metadata": {
        "colab": {
          "base_uri": "https://localhost:8080/"
        },
        "id": "vl5-R1EGMJma",
        "outputId": "f4a7f7ab-ebe5-4706-9fc3-6b19580d684b"
      },
      "execution_count": null,
      "outputs": [
        {
          "output_type": "stream",
          "name": "stdout",
          "text": [
            "[1 2]\n"
          ]
        }
      ]
    },
    {
      "cell_type": "code",
      "source": [
        "#print all rows in column 1?\n",
        "print(a[:,1])"
      ],
      "metadata": {
        "colab": {
          "base_uri": "https://localhost:8080/"
        },
        "id": "ez3DPx5SMMBZ",
        "outputId": "6cb1b20a-199a-45dc-9e7d-4172735976ae"
      },
      "execution_count": null,
      "outputs": [
        {
          "output_type": "stream",
          "name": "stdout",
          "text": [
            "[2 4]\n"
          ]
        }
      ]
    },
    {
      "cell_type": "code",
      "source": [
        "#print all the columns in row1?\n",
        "print(a[1,:])"
      ],
      "metadata": {
        "colab": {
          "base_uri": "https://localhost:8080/"
        },
        "id": "RRWkaaByMQg7",
        "outputId": "17137e4f-94f1-459d-daab-0296c2682f7f"
      },
      "execution_count": null,
      "outputs": [
        {
          "output_type": "stream",
          "name": "stdout",
          "text": [
            "[3 4]\n"
          ]
        }
      ]
    },
    {
      "cell_type": "code",
      "source": [
        "#Transpose  -->columns change into rows and rows change in to columns\n",
        "a.T"
      ],
      "metadata": {
        "colab": {
          "base_uri": "https://localhost:8080/"
        },
        "id": "t9K8JSWqMUuk",
        "outputId": "6808cc0d-ac44-4c2c-f69a-28d23789d613"
      },
      "execution_count": null,
      "outputs": [
        {
          "output_type": "execute_result",
          "data": {
            "text/plain": [
              "array([[1, 3],\n",
              "       [2, 4]])"
            ]
          },
          "metadata": {},
          "execution_count": 35
        }
      ]
    },
    {
      "cell_type": "code",
      "source": [
        "print(a)"
      ],
      "metadata": {
        "colab": {
          "base_uri": "https://localhost:8080/"
        },
        "id": "pOwzWaKLMifP",
        "outputId": "7445894e-1241-41ff-a200-4583f7e4f98e"
      },
      "execution_count": null,
      "outputs": [
        {
          "output_type": "stream",
          "name": "stdout",
          "text": [
            "[[1 2]\n",
            " [3 4]]\n"
          ]
        }
      ]
    },
    {
      "cell_type": "code",
      "source": [
        "#matrix multiplication with dot\n",
        "b = np.array([[3,4],[5,6]])\n",
        "c = a.dot(b)\n",
        "print(c)"
      ],
      "metadata": {
        "colab": {
          "base_uri": "https://localhost:8080/"
        },
        "id": "51zhdO4IMl2k",
        "outputId": "bf18805f-58b8-460a-9ab2-332488595bfe"
      },
      "execution_count": null,
      "outputs": [
        {
          "output_type": "stream",
          "name": "stdout",
          "text": [
            "[[13 16]\n",
            " [29 36]]\n"
          ]
        }
      ]
    },
    {
      "cell_type": "code",
      "source": [
        "#Determinant finding\n",
        "#find the det of c?\n",
        "c = np.linalg.det(a)\n",
        "print(c)"
      ],
      "metadata": {
        "colab": {
          "base_uri": "https://localhost:8080/"
        },
        "id": "XbUsWZA8MrmR",
        "outputId": "ce85b92f-7da9-41ad-d395-1bfbd4e35004"
      },
      "execution_count": null,
      "outputs": [
        {
          "output_type": "stream",
          "name": "stdout",
          "text": [
            "-2.0000000000000004\n"
          ]
        }
      ]
    },
    {
      "cell_type": "code",
      "source": [
        "#find the diagonal of a?\n",
        "c = np.diag(a)\n",
        "print(c)"
      ],
      "metadata": {
        "colab": {
          "base_uri": "https://localhost:8080/"
        },
        "id": "z6X_oC95NDVY",
        "outputId": "60ccc6b0-f7a5-432e-def0-b9ce003b15e1"
      },
      "execution_count": null,
      "outputs": [
        {
          "output_type": "stream",
          "name": "stdout",
          "text": [
            "[1 4]\n"
          ]
        }
      ]
    },
    {
      "cell_type": "code",
      "source": [
        "#print inverse of array a?\n",
        "c = np.linalg.inv(a)\n",
        "print(c)\n",
        "#https://www.tutorialspoint.com/numpy/numpy_inv.htm#:~:text=We%20use%20numpy.,it%20results%20in%20identity%20mat\n"
      ],
      "metadata": {
        "colab": {
          "base_uri": "https://localhost:8080/"
        },
        "id": "h6aaI6ZhNHVc",
        "outputId": "52fa9225-50ac-4527-ebae-7ea909721fad"
      },
      "execution_count": null,
      "outputs": [
        {
          "output_type": "stream",
          "name": "stdout",
          "text": [
            "[[-2.   1. ]\n",
            " [ 1.5 -0.5]]\n"
          ]
        }
      ]
    },
    {
      "cell_type": "code",
      "source": [
        "#diag on a vector returns returns diagonal matrix(overloaded function)\n",
        "c = np.diag([1,4])\n",
        "print(c)"
      ],
      "metadata": {
        "colab": {
          "base_uri": "https://localhost:8080/"
        },
        "id": "eVnXo0opNK93",
        "outputId": "0d6dd9a7-0f15-4eee-ba3a-8755d3a48685"
      },
      "execution_count": null,
      "outputs": [
        {
          "output_type": "stream",
          "name": "stdout",
          "text": [
            "[[1 0]\n",
            " [0 4]]\n"
          ]
        }
      ]
    },
    {
      "cell_type": "markdown",
      "source": [
        "INDEXING AND SLICING ,BOOLEAN INDEXING"
      ],
      "metadata": {
        "id": "TDs_Omm0Ntkk"
      }
    },
    {
      "cell_type": "code",
      "source": [
        "a = np.array([[1,2,3,4],[5,6,7,8],[9,10,11,12]])\n",
        "print(a)\n",
        "# print(a.shape)\n",
        "# print(a.ndim)\n",
        "# print(a.size)\n",
        "# print(a.dtype)\n",
        "print(a[0,::])\n"
      ],
      "metadata": {
        "colab": {
          "base_uri": "https://localhost:8080/"
        },
        "id": "oMLK-D9YNi0H",
        "outputId": "53b61d2e-532d-4e0a-9bed-6f489c68d551"
      },
      "execution_count": null,
      "outputs": [
        {
          "output_type": "stream",
          "name": "stdout",
          "text": [
            "[[ 1  2  3  4]\n",
            " [ 5  6  7  8]\n",
            " [ 9 10 11 12]]\n",
            "[1 2 3 4]\n"
          ]
        }
      ]
    },
    {
      "cell_type": "code",
      "source": [
        "#print 1st column---<159\n",
        "print(a[:,0])"
      ],
      "metadata": {
        "colab": {
          "base_uri": "https://localhost:8080/"
        },
        "id": "ni2GlE0VN2Un",
        "outputId": "6914fd2b-165a-4e65-b799-8a98a3a66e20"
      },
      "execution_count": null,
      "outputs": [
        {
          "output_type": "stream",
          "name": "stdout",
          "text": [
            "[1 5 9]\n"
          ]
        }
      ]
    },
    {
      "cell_type": "code",
      "source": [
        "#slice [2,3 and 6,7] from above array\n",
        "s = a[0:2,1:3]\n",
        "print(s)"
      ],
      "metadata": {
        "colab": {
          "base_uri": "https://localhost:8080/"
        },
        "id": "JULRXJIYN5n_",
        "outputId": "3dc352a6-5fe3-412e-dea0-9d1888b02f43"
      },
      "execution_count": null,
      "outputs": [
        {
          "output_type": "stream",
          "name": "stdout",
          "text": [
            "[[2 3]\n",
            " [6 7]]\n"
          ]
        }
      ]
    },
    {
      "cell_type": "code",
      "source": [
        "print(a[-1,-2]) #---- -ve row from reverse direction \"-1\" and -ve column in last position \"-1\""
      ],
      "metadata": {
        "colab": {
          "base_uri": "https://localhost:8080/"
        },
        "id": "xuLJvViJN8ts",
        "outputId": "f84e08d2-acc4-4a5b-eb78-1e3e8f4bdf9e"
      },
      "execution_count": null,
      "outputs": [
        {
          "output_type": "stream",
          "name": "stdout",
          "text": [
            "11\n"
          ]
        }
      ]
    },
    {
      "cell_type": "code",
      "source": [
        "#Boolean indexing\n",
        "a = np.array([[1,2],[3,4],[5,6]])\n",
        "print(a)"
      ],
      "metadata": {
        "colab": {
          "base_uri": "https://localhost:8080/"
        },
        "id": "AM__b_DMOAhY",
        "outputId": "f8171747-d7c1-4d3b-d05b-f833b0658fd9"
      },
      "execution_count": null,
      "outputs": [
        {
          "output_type": "stream",
          "name": "stdout",
          "text": [
            "[[1 2]\n",
            " [3 4]\n",
            " [5 6]]\n"
          ]
        }
      ]
    },
    {
      "cell_type": "code",
      "source": [
        "#print the values \"true\" if it is greater than 2 else false.\n",
        "print(a > 2)\n",
        "#note:- this will be a rank 1 array"
      ],
      "metadata": {
        "colab": {
          "base_uri": "https://localhost:8080/"
        },
        "id": "PbKl71yzODnx",
        "outputId": "e3deabb3-8c98-45a0-dc37-6b9b42015899"
      },
      "execution_count": null,
      "outputs": [
        {
          "output_type": "stream",
          "name": "stdout",
          "text": [
            "[[False False]\n",
            " [ True  True]\n",
            " [ True  True]]\n"
          ]
        }
      ]
    },
    {
      "cell_type": "code",
      "source": [
        "#iwant values greater than 2\n",
        "print(a[a>2])\n",
        "print(a[a>2].shape)"
      ],
      "metadata": {
        "colab": {
          "base_uri": "https://localhost:8080/"
        },
        "id": "s0NNe17NOGUF",
        "outputId": "25e67f61-64a6-47cf-b9a4-dd89e4eb97b2"
      },
      "execution_count": null,
      "outputs": [
        {
          "output_type": "stream",
          "name": "stdout",
          "text": [
            "[3 4 5 6]\n",
            "(4,)\n"
          ]
        }
      ]
    },
    {
      "cell_type": "code",
      "source": [
        "#please go through rank1 and rank2 arrays--->HW\n",
        "\n",
        "#np.where():- same size with modifed values\n",
        "b = np.where(a>2,a,-1) #(condtion,array,values to be passed)\n",
        "print(b)\n"
      ],
      "metadata": {
        "colab": {
          "base_uri": "https://localhost:8080/"
        },
        "id": "usP3F3XFOKDZ",
        "outputId": "6e01e65e-9bcd-4122-d255-cbb05fe9f2c7"
      },
      "execution_count": null,
      "outputs": [
        {
          "output_type": "stream",
          "name": "stdout",
          "text": [
            "[[-1 -1]\n",
            " [ 3  4]\n",
            " [ 5  6]]\n"
          ]
        }
      ]
    },
    {
      "cell_type": "code",
      "source": [
        "#Fnacy Indexing:- with this indexing you can access multiple indices at once\n",
        "a = np.array([10,19,30,41,50,61])\n",
        "b = a[[1,3,5]]\n",
        "print(b)"
      ],
      "metadata": {
        "colab": {
          "base_uri": "https://localhost:8080/"
        },
        "id": "XqNgs9kiON0f",
        "outputId": "b7cdad10-d639-4f48-a0f3-2844831d5eb7"
      },
      "execution_count": null,
      "outputs": [
        {
          "output_type": "stream",
          "name": "stdout",
          "text": [
            "[19 41 61]\n"
          ]
        }
      ]
    },
    {
      "cell_type": "code",
      "source": [
        "#compute indices whwre the condition true?\n",
        "even = np.argwhere(a % 2 == 0).flatten()\n",
        "print(even)"
      ],
      "metadata": {
        "colab": {
          "base_uri": "https://localhost:8080/"
        },
        "id": "_YKbbQhmOStg",
        "outputId": "6d3a8580-eb18-4d1d-a8ca-2a4205a86f4a"
      },
      "execution_count": null,
      "outputs": [
        {
          "output_type": "stream",
          "name": "stdout",
          "text": [
            "[0 2 4]\n"
          ]
        }
      ]
    },
    {
      "cell_type": "markdown",
      "source": [
        "RESHAPING"
      ],
      "metadata": {
        "id": "uzu3R6ZhOgY0"
      }
    },
    {
      "cell_type": "code",
      "source": [
        "a = np.arange(1,7)\n",
        "print(a)"
      ],
      "metadata": {
        "colab": {
          "base_uri": "https://localhost:8080/"
        },
        "id": "38ayMtBdOWxP",
        "outputId": "356a4372-55d0-473b-f9a5-c66f3c3f509f"
      },
      "execution_count": null,
      "outputs": [
        {
          "output_type": "stream",
          "name": "stdout",
          "text": [
            "[1 2 3 4 5 6]\n"
          ]
        }
      ]
    },
    {
      "cell_type": "code",
      "source": [
        "#reshape(row,col)\n",
        "c = a.reshape(3,2)\n",
        "print(c)"
      ],
      "metadata": {
        "colab": {
          "base_uri": "https://localhost:8080/"
        },
        "id": "58fGbu-KOmjw",
        "outputId": "408dd869-2c7b-4789-8167-d0ba56bd1ad2"
      },
      "execution_count": null,
      "outputs": [
        {
          "output_type": "stream",
          "name": "stdout",
          "text": [
            "[[1 2]\n",
            " [3 4]\n",
            " [5 6]]\n"
          ]
        }
      ]
    },
    {
      "cell_type": "code",
      "source": [
        "#newax:- is used to create a new axis in the data [row,:col]\n",
        "#it is requiered when model require the data to be shaped in a certain manner\n",
        "print(a.shape)"
      ],
      "metadata": {
        "colab": {
          "base_uri": "https://localhost:8080/"
        },
        "id": "jEM5KZLvOo9J",
        "outputId": "f1215264-5e77-4b72-8336-d3b80b4c0deb"
      },
      "execution_count": null,
      "outputs": [
        {
          "output_type": "stream",
          "name": "stdout",
          "text": [
            "(6,)\n"
          ]
        }
      ]
    },
    {
      "cell_type": "code",
      "source": [
        "d = a[np.newaxis,:]   #[row(newaxis),:]\n",
        "print(d)\n",
        "print(d.shape)"
      ],
      "metadata": {
        "colab": {
          "base_uri": "https://localhost:8080/"
        },
        "id": "zLurI_ZUOrqE",
        "outputId": "7079d134-1282-4e0d-d44f-7c3a006bd0b0"
      },
      "execution_count": null,
      "outputs": [
        {
          "output_type": "stream",
          "name": "stdout",
          "text": [
            "[[1 2 3 4 5 6]]\n",
            "(1, 6)\n"
          ]
        }
      ]
    },
    {
      "cell_type": "code",
      "source": [
        "e = a[:,np.newaxis]   #[row(fefault(:)), col[newaxis]]\n",
        "print(e)\n",
        "print(e.shape)"
      ],
      "metadata": {
        "colab": {
          "base_uri": "https://localhost:8080/"
        },
        "id": "QG4ibmUHOtug",
        "outputId": "8a04c143-9746-404f-efc3-53092db9cfe1"
      },
      "execution_count": null,
      "outputs": [
        {
          "output_type": "stream",
          "name": "stdout",
          "text": [
            "[[1]\n",
            " [2]\n",
            " [3]\n",
            " [4]\n",
            " [5]\n",
            " [6]]\n",
            "(6, 1)\n"
          ]
        }
      ]
    },
    {
      "cell_type": "markdown",
      "source": [
        "CONCATENATION"
      ],
      "metadata": {
        "id": "t2Y1OKJyOyRU"
      }
    },
    {
      "cell_type": "code",
      "source": [
        "a = np.array([[1,2],[3,4]])\n",
        "b = np.array([[5,6],[7,8]])\n",
        "\n",
        "#conbine this array's into 1d array\n",
        "# c =np.concatenate((a,b), axis =None)\n",
        "# print(c)\n",
        "# #axis = 0\n",
        "# d =np.concatenate((a,b), axis =0)\n",
        "# print(d)\n",
        "# #give axis = 1\n",
        "e =np.concatenate((a,b), axis =1)\n",
        "print(e)"
      ],
      "metadata": {
        "colab": {
          "base_uri": "https://localhost:8080/"
        },
        "id": "nIiy0b4KOwuH",
        "outputId": "1c6633b3-4b07-494c-9245-15dd54b6f2c2"
      },
      "execution_count": null,
      "outputs": [
        {
          "output_type": "stream",
          "name": "stdout",
          "text": [
            "[[1 2 5 6]\n",
            " [3 4 7 8]]\n"
          ]
        }
      ]
    },
    {
      "cell_type": "code",
      "source": [
        "a = np.array([[1,2],[3,4]])\n",
        "b = np.array([[5,6]])\n",
        "#add new column in to array:- note we have to transpose it\n",
        "c = np.concatenate((a,b.T),axis = 1)\n",
        "print(c)\n",
        "print(b.T)"
      ],
      "metadata": {
        "colab": {
          "base_uri": "https://localhost:8080/"
        },
        "id": "W7fcsC1oO6J1",
        "outputId": "495ecd62-6294-4adc-b588-0565954082df"
      },
      "execution_count": null,
      "outputs": [
        {
          "output_type": "stream",
          "name": "stdout",
          "text": [
            "[[1 2 5]\n",
            " [3 4 6]]\n",
            "[[5]\n",
            " [6]]\n"
          ]
        }
      ]
    },
    {
      "cell_type": "code",
      "source": [
        "#hstack:- stack of arrays in sequence horizentally(column wise) need a tuple\n",
        "a = np.array([1,2,3,4])\n",
        "b = np.array([5,6,7,8])\n",
        "c = np.hstack((a,b))\n",
        "print(c)\n",
        "#please try with \"np.concatenate(a,b, axis = None)\""
      ],
      "metadata": {
        "colab": {
          "base_uri": "https://localhost:8080/"
        },
        "id": "yV4I0OXeO94p",
        "outputId": "35446455-8b75-41b4-cefb-0e8064ba832e"
      },
      "execution_count": null,
      "outputs": [
        {
          "output_type": "stream",
          "name": "stdout",
          "text": [
            "[1 2 3 4 5 6 7 8]\n"
          ]
        }
      ]
    },
    {
      "cell_type": "code",
      "source": [
        "a = np.array([[1,2],[3,4]])\n",
        "b = np.array([[5,6],[7,8]])\n",
        "c = np.hstack((a,b))\n",
        "print(c)"
      ],
      "metadata": {
        "colab": {
          "base_uri": "https://localhost:8080/"
        },
        "id": "EF0Jym4CPCCo",
        "outputId": "c4fba5a0-d8e8-4315-b0cf-4202ccc38495"
      },
      "execution_count": null,
      "outputs": [
        {
          "output_type": "stream",
          "name": "stdout",
          "text": [
            "[[1 2 5 6]\n",
            " [3 4 7 8]]\n"
          ]
        }
      ]
    },
    {
      "cell_type": "code",
      "source": [
        "#vstack:-\n",
        "a = np.array([1,2,3,4])\n",
        "b = np.array([5,6,7,8])\n",
        "c = np.vstack((a,b))\n",
        "print(c)"
      ],
      "metadata": {
        "colab": {
          "base_uri": "https://localhost:8080/"
        },
        "id": "0dFkH3hHPI_A",
        "outputId": "d8aa5e65-eb95-41d4-aa3f-1350e1578ece"
      },
      "execution_count": null,
      "outputs": [
        {
          "output_type": "stream",
          "name": "stdout",
          "text": [
            "[[1 2 3 4]\n",
            " [5 6 7 8]]\n"
          ]
        }
      ]
    },
    {
      "cell_type": "code",
      "source": [
        "a = np.array([[1,2],[3,4]])\n",
        "b = np.array([[5,6],[7,8]])\n",
        "c = np.vstack((a,b))\n",
        "print(c)"
      ],
      "metadata": {
        "colab": {
          "base_uri": "https://localhost:8080/"
        },
        "id": "_2gb7NrLPLm4",
        "outputId": "b317c773-2617-470e-bc1d-0aed97e4e26a"
      },
      "execution_count": null,
      "outputs": [
        {
          "output_type": "stream",
          "name": "stdout",
          "text": [
            "[[1 2]\n",
            " [3 4]\n",
            " [5 6]\n",
            " [7 8]]\n"
          ]
        }
      ]
    },
    {
      "cell_type": "markdown",
      "source": [
        "BROADCASTING"
      ],
      "metadata": {
        "id": "CGhBkwDhPRQx"
      }
    },
    {
      "cell_type": "code",
      "source": [
        "\"\"\"it is a powerfull mechanism that allows numpy arrays to work with different shapes\n",
        "when performing arthamatic operations\"\"\"\n",
        "x = np.array([[1,2,3],[4,5,6],[7,8,9],[10,11,12]])\n",
        "y = np.array([1,0,1])  #add y to each row of x using the braod casting\n",
        "z = x + y\n",
        "print(z)"
      ],
      "metadata": {
        "colab": {
          "base_uri": "https://localhost:8080/"
        },
        "id": "Dgzo5ZCWPPlV",
        "outputId": "e3ee3ea1-3768-49d0-cdb2-1d41007b9dba"
      },
      "execution_count": null,
      "outputs": [
        {
          "output_type": "stream",
          "name": "stdout",
          "text": [
            "[[ 2  2  4]\n",
            " [ 5  5  7]\n",
            " [ 8  8 10]\n",
            " [11 11 13]]\n"
          ]
        }
      ]
    },
    {
      "cell_type": "markdown",
      "source": [
        "FUNCTION AND AXIS"
      ],
      "metadata": {
        "id": "g0_Jcz8PPYh1"
      }
    },
    {
      "cell_type": "code",
      "source": [
        "a = np.array([[7,8,9,10,11,12,13],[17,18,19,20,21,22,23]])\n",
        "#sum of the above array\n",
        "print(a.sum())\n",
        "#use axis = None\n",
        "print(a.sum(axis = None))\n",
        "#use axis = 0\n",
        "print(a.sum(axis = 0))\n",
        "#use axis = 1\n",
        "print(a.sum(axis = 1))\n",
        "#claculate mean with axis None, 0, 1\n",
        "print(a.mean(axis = None))\n",
        "print(a.mean(axis = 0))\n",
        "print(a.mean(axis = 1))"
      ],
      "metadata": {
        "colab": {
          "base_uri": "https://localhost:8080/"
        },
        "id": "q0lCBE2NPWF-",
        "outputId": "abd363cb-25e6-449f-f059-5f6e9e16e6bb"
      },
      "execution_count": null,
      "outputs": [
        {
          "output_type": "stream",
          "name": "stdout",
          "text": [
            "210\n",
            "210\n",
            "[24 26 28 30 32 34 36]\n",
            "[ 70 140]\n",
            "15.0\n",
            "[12. 13. 14. 15. 16. 17. 18.]\n",
            "[10. 20.]\n"
          ]
        }
      ]
    },
    {
      "cell_type": "markdown",
      "source": [
        "DATA TYPES"
      ],
      "metadata": {
        "id": "Rj2w9W5MPqY3"
      }
    },
    {
      "cell_type": "code",
      "source": [
        "x = np.array([1,2])\n",
        "print(x.dtype)"
      ],
      "metadata": {
        "colab": {
          "base_uri": "https://localhost:8080/"
        },
        "id": "LC8xSQCMPmzN",
        "outputId": "14944a29-60aa-4b5f-ace3-d40652f37398"
      },
      "execution_count": null,
      "outputs": [
        {
          "output_type": "stream",
          "name": "stdout",
          "text": [
            "int64\n"
          ]
        }
      ]
    },
    {
      "cell_type": "code",
      "source": [
        "#let np choose datatypes\n",
        "x = np.array([1.0,2.0])\n",
        "print(x.dtype)"
      ],
      "metadata": {
        "colab": {
          "base_uri": "https://localhost:8080/"
        },
        "id": "-RSEIbKTPwUa",
        "outputId": "efed8f1a-c076-41d4-a026-ecfbcbddb166"
      },
      "execution_count": null,
      "outputs": [
        {
          "output_type": "stream",
          "name": "stdout",
          "text": [
            "float64\n"
          ]
        }
      ]
    },
    {
      "cell_type": "code",
      "source": [
        "#force a data type how many bits you want (how precise)\n",
        "x = np.array([1,2], dtype = np.int32)\n",
        "print(x.dtype)"
      ],
      "metadata": {
        "colab": {
          "base_uri": "https://localhost:8080/"
        },
        "id": "tP9mK0WXP0e9",
        "outputId": "ba8dedcf-2179-4dd8-f192-387c7a28d4a1"
      },
      "execution_count": null,
      "outputs": [
        {
          "output_type": "stream",
          "name": "stdout",
          "text": [
            "int32\n"
          ]
        }
      ]
    },
    {
      "cell_type": "code",
      "source": [
        "x = np.array([1,2], dtype = np.float32)\n",
        "print(x.dtype)"
      ],
      "metadata": {
        "colab": {
          "base_uri": "https://localhost:8080/"
        },
        "id": "jXBcdzlwP28o",
        "outputId": "c6aab65d-39e3-4d68-e995-6699a8167e82"
      },
      "execution_count": null,
      "outputs": [
        {
          "output_type": "stream",
          "name": "stdout",
          "text": [
            "float32\n"
          ]
        }
      ]
    },
    {
      "cell_type": "code",
      "source": [
        "x = np.array([1,2], dtype = np.float32)\n",
        "print(x.dtype)"
      ],
      "metadata": {
        "colab": {
          "base_uri": "https://localhost:8080/"
        },
        "id": "M_NIwUEqQAxx",
        "outputId": "e4103de7-e2b0-498a-d042-c27fd7d1c410"
      },
      "execution_count": null,
      "outputs": [
        {
          "output_type": "stream",
          "name": "stdout",
          "text": [
            "float32\n"
          ]
        }
      ]
    },
    {
      "cell_type": "markdown",
      "source": [
        "COPYING"
      ],
      "metadata": {
        "id": "IEuMdQhSRrJM"
      }
    },
    {
      "cell_type": "code",
      "source": [
        "a = np.array([1,2,3])\n",
        "b = a   #only copies references\n",
        "b[0] = 42\n",
        "print(a)"
      ],
      "metadata": {
        "colab": {
          "base_uri": "https://localhost:8080/"
        },
        "id": "fJg9QaoWRN1s",
        "outputId": "f5a72449-fc0d-4a98-c809-ef36ffcd0651"
      },
      "execution_count": null,
      "outputs": [
        {
          "output_type": "stream",
          "name": "stdout",
          "text": [
            "[42  2  3]\n"
          ]
        }
      ]
    },
    {
      "cell_type": "code",
      "source": [
        "a = np.array([1,2,3])\n",
        "b = a.copy() #actaula copy\n",
        "b[0] = 46\n",
        "print(a)"
      ],
      "metadata": {
        "colab": {
          "base_uri": "https://localhost:8080/"
        },
        "id": "f6REhrrzRxDW",
        "outputId": "015798ff-81f9-4fe3-fe0c-58a8eb486c87"
      },
      "execution_count": null,
      "outputs": [
        {
          "output_type": "stream",
          "name": "stdout",
          "text": [
            "[1 2 3]\n"
          ]
        }
      ]
    },
    {
      "cell_type": "markdown",
      "source": [
        "GENARATING ARRAYS"
      ],
      "metadata": {
        "id": "tHoQTg6KR2Gz"
      }
    },
    {
      "cell_type": "code",
      "source": [
        "#print zeros in 2 rows and 3 columns\n",
        "a = np.zeros((2,3))\n",
        "print(a)\n",
        "#specific  numbner of matrix in 3 rows and 3 columns\n",
        "c = np.full((3,3),(5))\n",
        "print(c)"
      ],
      "metadata": {
        "colab": {
          "base_uri": "https://localhost:8080/"
        },
        "id": "ubqSv88TRz7R",
        "outputId": "d2d29d95-f4e2-47c5-f92d-e87c647d10e4"
      },
      "execution_count": null,
      "outputs": [
        {
          "output_type": "stream",
          "name": "stdout",
          "text": [
            "[[0. 0. 0.]\n",
            " [0. 0. 0.]]\n",
            "[[5 5 5]\n",
            " [5 5 5]\n",
            " [5 5 5]]\n"
          ]
        }
      ]
    },
    {
      "cell_type": "code",
      "source": [
        "#print identity matrix\n",
        "d = np.eye(3)\n",
        "print(d)"
      ],
      "metadata": {
        "colab": {
          "base_uri": "https://localhost:8080/"
        },
        "id": "-J0SZl07SCG-",
        "outputId": "dfd72f8e-12f2-4bbb-aad6-f5e9ca23787e"
      },
      "execution_count": null,
      "outputs": [
        {
          "output_type": "stream",
          "name": "stdout",
          "text": [
            "[[1. 0. 0.]\n",
            " [0. 1. 0.]\n",
            " [0. 0. 1.]]\n"
          ]
        }
      ]
    },
    {
      "cell_type": "code",
      "source": [
        "#linspace  #we are using this command to separate the given data in to specific numbers\n",
        "f = np.linspace(0,10,5)\n",
        "print(f)"
      ],
      "metadata": {
        "colab": {
          "base_uri": "https://localhost:8080/"
        },
        "id": "aUFgoGTCSFPo",
        "outputId": "45aa653f-0b18-4faa-a5c7-f3fd679c754f"
      },
      "execution_count": null,
      "outputs": [
        {
          "output_type": "stream",
          "name": "stdout",
          "text": [
            "[ 0.   2.5  5.   7.5 10. ]\n"
          ]
        }
      ]
    },
    {
      "cell_type": "markdown",
      "source": [
        "RANDOM NUMBERS\n"
      ],
      "metadata": {
        "id": "x8To1-H4SK6t"
      }
    },
    {
      "cell_type": "markdown",
      "source": [],
      "metadata": {
        "id": "yBAOretYSKxv"
      }
    },
    {
      "cell_type": "code",
      "source": [
        "a = np.random.random((3,2))   #uniform 0-1 distribution\n",
        "print(a)"
      ],
      "metadata": {
        "colab": {
          "base_uri": "https://localhost:8080/"
        },
        "id": "uvSBJDSoSInT",
        "outputId": "61f3e1e8-edcc-43c6-848b-992cc2b0b737"
      },
      "execution_count": null,
      "outputs": [
        {
          "output_type": "stream",
          "name": "stdout",
          "text": [
            "[[0.49868417 0.96244264]\n",
            " [0.34073939 0.24160953]\n",
            " [0.48129388 0.57009073]]\n"
          ]
        }
      ]
    },
    {
      "cell_type": "code",
      "source": [
        "b = np.random.randn(3,2)  #normal/gussian distribution, mean 0 and unit veriance.\n",
        "print(b)"
      ],
      "metadata": {
        "colab": {
          "base_uri": "https://localhost:8080/"
        },
        "id": "iyxq3SONSQyk",
        "outputId": "5f6ce64d-5593-4596-d0db-7ffc3a4312fa"
      },
      "execution_count": null,
      "outputs": [
        {
          "output_type": "stream",
          "name": "stdout",
          "text": [
            "[[-1.19216325  0.77253562]\n",
            " [ 2.67641989 -1.22064925]\n",
            " [-0.09914731 -0.14567571]]\n"
          ]
        }
      ]
    },
    {
      "cell_type": "code",
      "source": [
        "c = np.random.randn(100000)\n",
        "print(c.mean(),c.var(),c.std())"
      ],
      "metadata": {
        "colab": {
          "base_uri": "https://localhost:8080/"
        },
        "id": "Kdv69IhBSWod",
        "outputId": "1279df1c-4027-4b60-dd36-bcd7d30179e9"
      },
      "execution_count": null,
      "outputs": [
        {
          "output_type": "stream",
          "name": "stdout",
          "text": [
            "-0.0015520596879529103 0.9972946162185128 0.9986463919819231\n"
          ]
        }
      ]
    },
    {
      "cell_type": "code",
      "source": [
        "d = np.random.randn(10,3)\n",
        "\n",
        "print(d.mean())"
      ],
      "metadata": {
        "colab": {
          "base_uri": "https://localhost:8080/"
        },
        "id": "sNd8o3hRSZwl",
        "outputId": "b448bfef-6d15-4d52-ed62-8488c17cb099"
      },
      "execution_count": null,
      "outputs": [
        {
          "output_type": "stream",
          "name": "stdout",
          "text": [
            "-0.02490660802517508\n"
          ]
        }
      ]
    },
    {
      "cell_type": "code",
      "source": [
        "d = np.random.randint(3,10, size=(3,3))\n",
        "print(d)"
      ],
      "metadata": {
        "colab": {
          "base_uri": "https://localhost:8080/"
        },
        "id": "sQLMM6nCScNM",
        "outputId": "25dcea12-f8eb-4c21-c2aa-41ae2752be71"
      },
      "execution_count": null,
      "outputs": [
        {
          "output_type": "stream",
          "name": "stdout",
          "text": [
            "[[6 3 8]\n",
            " [7 3 9]\n",
            " [6 4 4]]\n"
          ]
        }
      ]
    },
    {
      "cell_type": "code",
      "source": [
        "#with integer is between 0 up to interger exclusive\n",
        "f = np.random.choice(10, size = 8)\n",
        "print(f)"
      ],
      "metadata": {
        "colab": {
          "base_uri": "https://localhost:8080/"
        },
        "id": "-RLpBgb7Sfna",
        "outputId": "91cfa215-100d-49d5-e5c1-71815ce6425e"
      },
      "execution_count": null,
      "outputs": [
        {
          "output_type": "stream",
          "name": "stdout",
          "text": [
            "[9 8 6 3 5 1 1 3]\n"
          ]
        }
      ]
    },
    {
      "cell_type": "code",
      "source": [
        "f = np.random.choice([1,2,3,4], size = 8)\n",
        "print(f)"
      ],
      "metadata": {
        "colab": {
          "base_uri": "https://localhost:8080/"
        },
        "id": "Ueroc-t9Sp9j",
        "outputId": "88bbda5d-4d56-4ecd-9260-05d428163637"
      },
      "execution_count": null,
      "outputs": [
        {
          "output_type": "stream",
          "name": "stdout",
          "text": [
            "[1 4 1 4 2 4 2 3]\n"
          ]
        }
      ]
    },
    {
      "cell_type": "markdown",
      "source": [
        "#  #Linear Algebra (Eigenvalues/solving linear systems)"
      ],
      "metadata": {
        "id": "VkOGfVh3SvKN"
      }
    },
    {
      "cell_type": "code",
      "source": [
        "a = np.array([[1,2],[3,4]])\n",
        "# print(a)\n",
        "eigenvalues, eigenvectors = np.linalg.eig(a)\n",
        "print(eigenvalues)\n",
        "print(eigenvectors)  #column vectors"
      ],
      "metadata": {
        "colab": {
          "base_uri": "https://localhost:8080/"
        },
        "id": "JKRotPVgSt7d",
        "outputId": "3d0aaa02-ea33-4396-d2de-2581689a41c5"
      },
      "execution_count": null,
      "outputs": [
        {
          "output_type": "stream",
          "name": "stdout",
          "text": [
            "[-0.37228132  5.37228132]\n",
            "[[-0.82456484 -0.41597356]\n",
            " [ 0.56576746 -0.90937671]]\n"
          ]
        }
      ]
    },
    {
      "cell_type": "code",
      "source": [
        "print(eigenvectors[:,0])"
      ],
      "metadata": {
        "colab": {
          "base_uri": "https://localhost:8080/"
        },
        "id": "G_rnXmzNTBO3",
        "outputId": "96c173f7-4ce2-4346-903e-6457f3e83359"
      },
      "execution_count": null,
      "outputs": [
        {
          "output_type": "stream",
          "name": "stdout",
          "text": [
            "[-0.82456484  0.56576746]\n"
          ]
        }
      ]
    },
    {
      "cell_type": "code",
      "source": [
        "#How can we verify the eigenvalues and eigen vectors\n",
        "#A)e-vec * e- val = a * e-vector\n",
        "d = eigenvectors[:,0]*eigenvalues[0]\n",
        "e = a @ eigenvectors[:,0]\n",
        "print(d)\n",
        "print(e)\n",
        "# print(d == e)\n",
        "#correct way to compare matrix\n",
        "print(np.allclose(d,e))"
      ],
      "metadata": {
        "colab": {
          "base_uri": "https://localhost:8080/"
        },
        "id": "7HocuONWTG-r",
        "outputId": "9271e289-2974-409c-f407-119cc40a15ce"
      },
      "execution_count": null,
      "outputs": [
        {
          "output_type": "stream",
          "name": "stdout",
          "text": [
            "[ 0.30697009 -0.21062466]\n",
            "[ 0.30697009 -0.21062466]\n",
            "True\n"
          ]
        }
      ]
    },
    {
      "cell_type": "code",
      "source": [
        "#solving the linera systems\n",
        "# x1 + x2 = 2200\n",
        "# 1.5 x1 +  4 x2 = 5050\n",
        "A = np.array([[1,1],[1.5,4]])\n",
        "B = np.array([2200,5050])\n",
        "# Ax = b <=> x = A - 1 b\n",
        "#sloving inverse is slow and less accurate\n",
        "x = np.linalg.inv(A).dot(B)  #Not recommended method\n",
        "print(x)\n",
        "#instead use\n",
        "x = np.linalg.solve(A,B)\n",
        "print(x)\n"
      ],
      "metadata": {
        "colab": {
          "base_uri": "https://localhost:8080/"
        },
        "id": "33N8Xnf6TK7T",
        "outputId": "f5be65fa-0e94-48e1-dec5-ec79ff2424bb"
      },
      "execution_count": null,
      "outputs": [
        {
          "output_type": "stream",
          "name": "stdout",
          "text": [
            "[1500.  700.]\n",
            "[1500.  700.]\n"
          ]
        }
      ]
    },
    {
      "cell_type": "markdown",
      "source": [
        "LOADING A CSV FILE"
      ],
      "metadata": {
        "id": "GYdZwoS2TQyk"
      }
    },
    {
      "cell_type": "code",
      "source": [
        "#load it with np.loadtxt()\n",
        "data = np.loadtxt(\"/content/sample_data/california_housing_test.csv\",delimiter = \",\",dtype = str)\n",
        "print(data.shape,data.dtype)"
      ],
      "metadata": {
        "colab": {
          "base_uri": "https://localhost:8080/"
        },
        "id": "UgVLlawOTOQJ",
        "outputId": "04fa093e-a936-40f6-acde-cd486066e94c"
      },
      "execution_count": null,
      "outputs": [
        {
          "output_type": "stream",
          "name": "stdout",
          "text": [
            "(3001, 9) <U20\n"
          ]
        }
      ]
    },
    {
      "cell_type": "code",
      "source": [
        "data = np.genfromtxt(\"/content/sample_data/california_housing_test.csv\",delimiter = \",\",dtype = str)\n",
        "print(data.shape,data.dtype)"
      ],
      "metadata": {
        "colab": {
          "base_uri": "https://localhost:8080/"
        },
        "id": "Q5NWO9gjTXke",
        "outputId": "3448ac3e-f8d0-44b1-a7be-9e28802ee300"
      },
      "execution_count": null,
      "outputs": [
        {
          "output_type": "stream",
          "name": "stdout",
          "text": [
            "(3001, 9) <U20\n"
          ]
        }
      ]
    },
    {
      "cell_type": "code",
      "source": [],
      "metadata": {
        "id": "DTk4lXbzTaQP"
      },
      "execution_count": null,
      "outputs": []
    }
  ]
}